{
 "cells": [
  {
   "cell_type": "markdown",
   "id": "aed19bf2",
   "metadata": {},
   "source": [
    "## Инициализация проекта"
   ]
  },
  {
   "cell_type": "code",
   "execution_count": null,
   "id": "ee5b2859-e288-43e9-a665-4a7f360fe154",
   "metadata": {},
   "outputs": [],
   "source": [
    "import pandas as pd\n",
    "import matplotlib.pyplot as plt\n",
    "import numpy as np\n",
    "import seaborn as sns\n",
    "import warnings"
   ]
  },
  {
   "cell_type": "markdown",
   "id": "3125044b",
   "metadata": {},
   "source": [
    "## Исследование данных"
   ]
  },
  {
   "cell_type": "code",
   "execution_count": 208,
   "id": "e15c0f71-d261-4026-a906-7101e882f9d5",
   "metadata": {},
   "outputs": [],
   "source": [
    "data = pd.read_csv('../data/smoke_detector_task.csv')"
   ]
  },
  {
   "cell_type": "code",
   "execution_count": 209,
   "id": "b4402963-ed14-4964-8787-47fb510d1494",
   "metadata": {},
   "outputs": [
    {
     "name": "stdout",
     "output_type": "stream",
     "text": [
      "<class 'pandas.core.frame.DataFrame'>\n",
      "RangeIndex: 62630 entries, 0 to 62629\n",
      "Data columns (total 16 columns):\n",
      " #   Column          Non-Null Count  Dtype  \n",
      "---  ------          --------------  -----  \n",
      " 0   Unnamed: 0      62630 non-null  int64  \n",
      " 1   UTC             62630 non-null  int64  \n",
      " 2   Temperature[C]  62484 non-null  float64\n",
      " 3   Humidity[%]     62383 non-null  float64\n",
      " 4   TVOC[ppb]       62009 non-null  float64\n",
      " 5   eCO2[ppm]       62305 non-null  float64\n",
      " 6   Raw H2          62519 non-null  float64\n",
      " 7   Raw Ethanol     62630 non-null  int64  \n",
      " 8   Pressure[hPa]   62603 non-null  float64\n",
      " 9   PM1.0           62630 non-null  float64\n",
      " 10  PM2.5           62313 non-null  float64\n",
      " 11  NC0.5           62630 non-null  float64\n",
      " 12  NC1.0           62378 non-null  float64\n",
      " 13  NC2.5           62630 non-null  float64\n",
      " 14  CNT             62630 non-null  int64  \n",
      " 15  Fire Alarm      62630 non-null  object \n",
      "dtypes: float64(11), int64(4), object(1)\n",
      "memory usage: 7.6+ MB\n"
     ]
    }
   ],
   "source": [
    "data.info()"
   ]
  },
  {
   "cell_type": "code",
   "execution_count": 210,
   "id": "2b94d70d-2b20-4280-8d28-96d9162b74bd",
   "metadata": {},
   "outputs": [
    {
     "data": {
      "text/html": [
       "<div>\n",
       "<style scoped>\n",
       "    .dataframe tbody tr th:only-of-type {\n",
       "        vertical-align: middle;\n",
       "    }\n",
       "\n",
       "    .dataframe tbody tr th {\n",
       "        vertical-align: top;\n",
       "    }\n",
       "\n",
       "    .dataframe thead th {\n",
       "        text-align: right;\n",
       "    }\n",
       "</style>\n",
       "<table border=\"1\" class=\"dataframe\">\n",
       "  <thead>\n",
       "    <tr style=\"text-align: right;\">\n",
       "      <th></th>\n",
       "      <th>Unnamed: 0</th>\n",
       "      <th>UTC</th>\n",
       "      <th>Temperature[C]</th>\n",
       "      <th>Humidity[%]</th>\n",
       "      <th>TVOC[ppb]</th>\n",
       "      <th>eCO2[ppm]</th>\n",
       "      <th>Raw H2</th>\n",
       "      <th>Raw Ethanol</th>\n",
       "      <th>Pressure[hPa]</th>\n",
       "      <th>PM1.0</th>\n",
       "      <th>PM2.5</th>\n",
       "      <th>NC0.5</th>\n",
       "      <th>NC1.0</th>\n",
       "      <th>NC2.5</th>\n",
       "      <th>CNT</th>\n",
       "      <th>Fire Alarm</th>\n",
       "    </tr>\n",
       "  </thead>\n",
       "  <tbody>\n",
       "    <tr>\n",
       "      <th>0</th>\n",
       "      <td>0</td>\n",
       "      <td>1654733331</td>\n",
       "      <td>20.000</td>\n",
       "      <td>57.36</td>\n",
       "      <td>0.0</td>\n",
       "      <td>400.0</td>\n",
       "      <td>12306.0</td>\n",
       "      <td>18520</td>\n",
       "      <td>939.735</td>\n",
       "      <td>0.00</td>\n",
       "      <td>0.00</td>\n",
       "      <td>0.0</td>\n",
       "      <td>0.000</td>\n",
       "      <td>0.000</td>\n",
       "      <td>0</td>\n",
       "      <td>No</td>\n",
       "    </tr>\n",
       "    <tr>\n",
       "      <th>1</th>\n",
       "      <td>1</td>\n",
       "      <td>1654733332</td>\n",
       "      <td>20.015</td>\n",
       "      <td>56.67</td>\n",
       "      <td>0.0</td>\n",
       "      <td>400.0</td>\n",
       "      <td>12345.0</td>\n",
       "      <td>18651</td>\n",
       "      <td>939.744</td>\n",
       "      <td>0.00</td>\n",
       "      <td>0.00</td>\n",
       "      <td>0.0</td>\n",
       "      <td>0.000</td>\n",
       "      <td>0.000</td>\n",
       "      <td>1</td>\n",
       "      <td>No</td>\n",
       "    </tr>\n",
       "    <tr>\n",
       "      <th>2</th>\n",
       "      <td>2</td>\n",
       "      <td>1654733333</td>\n",
       "      <td>20.029</td>\n",
       "      <td>55.96</td>\n",
       "      <td>0.0</td>\n",
       "      <td>400.0</td>\n",
       "      <td>12374.0</td>\n",
       "      <td>18764</td>\n",
       "      <td>939.738</td>\n",
       "      <td>0.00</td>\n",
       "      <td>0.00</td>\n",
       "      <td>0.0</td>\n",
       "      <td>0.000</td>\n",
       "      <td>0.000</td>\n",
       "      <td>2</td>\n",
       "      <td>No</td>\n",
       "    </tr>\n",
       "    <tr>\n",
       "      <th>3</th>\n",
       "      <td>3</td>\n",
       "      <td>1654733334</td>\n",
       "      <td>20.044</td>\n",
       "      <td>55.28</td>\n",
       "      <td>0.0</td>\n",
       "      <td>400.0</td>\n",
       "      <td>12390.0</td>\n",
       "      <td>18849</td>\n",
       "      <td>939.736</td>\n",
       "      <td>0.00</td>\n",
       "      <td>0.00</td>\n",
       "      <td>0.0</td>\n",
       "      <td>0.000</td>\n",
       "      <td>0.000</td>\n",
       "      <td>3</td>\n",
       "      <td>No</td>\n",
       "    </tr>\n",
       "    <tr>\n",
       "      <th>4</th>\n",
       "      <td>4</td>\n",
       "      <td>1654733335</td>\n",
       "      <td>20.059</td>\n",
       "      <td>54.69</td>\n",
       "      <td>0.0</td>\n",
       "      <td>400.0</td>\n",
       "      <td>12403.0</td>\n",
       "      <td>18921</td>\n",
       "      <td>939.744</td>\n",
       "      <td>0.00</td>\n",
       "      <td>0.00</td>\n",
       "      <td>0.0</td>\n",
       "      <td>0.000</td>\n",
       "      <td>0.000</td>\n",
       "      <td>4</td>\n",
       "      <td>No</td>\n",
       "    </tr>\n",
       "    <tr>\n",
       "      <th>5</th>\n",
       "      <td>5</td>\n",
       "      <td>1654733336</td>\n",
       "      <td>20.073</td>\n",
       "      <td>54.12</td>\n",
       "      <td>0.0</td>\n",
       "      <td>400.0</td>\n",
       "      <td>12419.0</td>\n",
       "      <td>18998</td>\n",
       "      <td>939.725</td>\n",
       "      <td>0.00</td>\n",
       "      <td>0.00</td>\n",
       "      <td>0.0</td>\n",
       "      <td>0.000</td>\n",
       "      <td>0.000</td>\n",
       "      <td>5</td>\n",
       "      <td>No</td>\n",
       "    </tr>\n",
       "    <tr>\n",
       "      <th>6</th>\n",
       "      <td>6</td>\n",
       "      <td>1654733337</td>\n",
       "      <td>20.088</td>\n",
       "      <td>53.61</td>\n",
       "      <td>0.0</td>\n",
       "      <td>400.0</td>\n",
       "      <td>12432.0</td>\n",
       "      <td>19058</td>\n",
       "      <td>939.738</td>\n",
       "      <td>0.00</td>\n",
       "      <td>0.00</td>\n",
       "      <td>0.0</td>\n",
       "      <td>0.000</td>\n",
       "      <td>0.000</td>\n",
       "      <td>6</td>\n",
       "      <td>No</td>\n",
       "    </tr>\n",
       "    <tr>\n",
       "      <th>7</th>\n",
       "      <td>7</td>\n",
       "      <td>1654733338</td>\n",
       "      <td>20.103</td>\n",
       "      <td>53.20</td>\n",
       "      <td>0.0</td>\n",
       "      <td>400.0</td>\n",
       "      <td>12439.0</td>\n",
       "      <td>19114</td>\n",
       "      <td>939.758</td>\n",
       "      <td>0.00</td>\n",
       "      <td>0.00</td>\n",
       "      <td>0.0</td>\n",
       "      <td>0.000</td>\n",
       "      <td>0.000</td>\n",
       "      <td>7</td>\n",
       "      <td>No</td>\n",
       "    </tr>\n",
       "    <tr>\n",
       "      <th>8</th>\n",
       "      <td>8</td>\n",
       "      <td>1654733339</td>\n",
       "      <td>20.117</td>\n",
       "      <td>52.81</td>\n",
       "      <td>0.0</td>\n",
       "      <td>400.0</td>\n",
       "      <td>12448.0</td>\n",
       "      <td>19155</td>\n",
       "      <td>939.758</td>\n",
       "      <td>0.00</td>\n",
       "      <td>0.00</td>\n",
       "      <td>0.0</td>\n",
       "      <td>0.000</td>\n",
       "      <td>0.000</td>\n",
       "      <td>8</td>\n",
       "      <td>No</td>\n",
       "    </tr>\n",
       "    <tr>\n",
       "      <th>9</th>\n",
       "      <td>9</td>\n",
       "      <td>1654733340</td>\n",
       "      <td>20.132</td>\n",
       "      <td>52.46</td>\n",
       "      <td>0.0</td>\n",
       "      <td>400.0</td>\n",
       "      <td>12453.0</td>\n",
       "      <td>19195</td>\n",
       "      <td>939.756</td>\n",
       "      <td>0.90</td>\n",
       "      <td>3.78</td>\n",
       "      <td>0.0</td>\n",
       "      <td>4.369</td>\n",
       "      <td>2.780</td>\n",
       "      <td>9</td>\n",
       "      <td>No</td>\n",
       "    </tr>\n",
       "    <tr>\n",
       "      <th>10</th>\n",
       "      <td>10</td>\n",
       "      <td>1654733341</td>\n",
       "      <td>20.146</td>\n",
       "      <td>52.15</td>\n",
       "      <td>0.0</td>\n",
       "      <td>400.0</td>\n",
       "      <td>12454.0</td>\n",
       "      <td>19230</td>\n",
       "      <td>939.757</td>\n",
       "      <td>0.89</td>\n",
       "      <td>3.71</td>\n",
       "      <td>0.0</td>\n",
       "      <td>4.289</td>\n",
       "      <td>2.730</td>\n",
       "      <td>10</td>\n",
       "      <td>No</td>\n",
       "    </tr>\n",
       "    <tr>\n",
       "      <th>11</th>\n",
       "      <td>11</td>\n",
       "      <td>1654733342</td>\n",
       "      <td>20.161</td>\n",
       "      <td>51.84</td>\n",
       "      <td>0.0</td>\n",
       "      <td>400.0</td>\n",
       "      <td>12467.0</td>\n",
       "      <td>19264</td>\n",
       "      <td>939.754</td>\n",
       "      <td>0.84</td>\n",
       "      <td>3.51</td>\n",
       "      <td>0.0</td>\n",
       "      <td>4.053</td>\n",
       "      <td>2.580</td>\n",
       "      <td>11</td>\n",
       "      <td>No</td>\n",
       "    </tr>\n",
       "    <tr>\n",
       "      <th>12</th>\n",
       "      <td>12</td>\n",
       "      <td>1654733343</td>\n",
       "      <td>20.175</td>\n",
       "      <td>51.62</td>\n",
       "      <td>0.0</td>\n",
       "      <td>400.0</td>\n",
       "      <td>12467.0</td>\n",
       "      <td>19299</td>\n",
       "      <td>939.755</td>\n",
       "      <td>0.81</td>\n",
       "      <td>3.38</td>\n",
       "      <td>0.0</td>\n",
       "      <td>3.909</td>\n",
       "      <td>2.488</td>\n",
       "      <td>12</td>\n",
       "      <td>No</td>\n",
       "    </tr>\n",
       "    <tr>\n",
       "      <th>13</th>\n",
       "      <td>13</td>\n",
       "      <td>1654733344</td>\n",
       "      <td>20.190</td>\n",
       "      <td>51.39</td>\n",
       "      <td>0.0</td>\n",
       "      <td>400.0</td>\n",
       "      <td>12469.0</td>\n",
       "      <td>19317</td>\n",
       "      <td>939.758</td>\n",
       "      <td>0.74</td>\n",
       "      <td>3.11</td>\n",
       "      <td>0.0</td>\n",
       "      <td>3.588</td>\n",
       "      <td>2.284</td>\n",
       "      <td>13</td>\n",
       "      <td>No</td>\n",
       "    </tr>\n",
       "    <tr>\n",
       "      <th>14</th>\n",
       "      <td>14</td>\n",
       "      <td>1654733345</td>\n",
       "      <td>20.204</td>\n",
       "      <td>51.17</td>\n",
       "      <td>0.0</td>\n",
       "      <td>403.0</td>\n",
       "      <td>12468.0</td>\n",
       "      <td>19338</td>\n",
       "      <td>939.742</td>\n",
       "      <td>0.71</td>\n",
       "      <td>2.96</td>\n",
       "      <td>0.0</td>\n",
       "      <td>3.419</td>\n",
       "      <td>2.176</td>\n",
       "      <td>14</td>\n",
       "      <td>No</td>\n",
       "    </tr>\n",
       "    <tr>\n",
       "      <th>15</th>\n",
       "      <td>15</td>\n",
       "      <td>1654733346</td>\n",
       "      <td>20.219</td>\n",
       "      <td>50.99</td>\n",
       "      <td>0.0</td>\n",
       "      <td>400.0</td>\n",
       "      <td>12475.0</td>\n",
       "      <td>19362</td>\n",
       "      <td>939.741</td>\n",
       "      <td>0.64</td>\n",
       "      <td>2.66</td>\n",
       "      <td>0.0</td>\n",
       "      <td>3.077</td>\n",
       "      <td>1.959</td>\n",
       "      <td>15</td>\n",
       "      <td>No</td>\n",
       "    </tr>\n",
       "    <tr>\n",
       "      <th>16</th>\n",
       "      <td>16</td>\n",
       "      <td>1654733347</td>\n",
       "      <td>20.233</td>\n",
       "      <td>50.86</td>\n",
       "      <td>0.0</td>\n",
       "      <td>400.0</td>\n",
       "      <td>12480.0</td>\n",
       "      <td>19382</td>\n",
       "      <td>939.758</td>\n",
       "      <td>0.60</td>\n",
       "      <td>2.52</td>\n",
       "      <td>0.0</td>\n",
       "      <td>2.908</td>\n",
       "      <td>1.851</td>\n",
       "      <td>16</td>\n",
       "      <td>No</td>\n",
       "    </tr>\n",
       "    <tr>\n",
       "      <th>17</th>\n",
       "      <td>17</td>\n",
       "      <td>1654733348</td>\n",
       "      <td>20.248</td>\n",
       "      <td>50.66</td>\n",
       "      <td>0.0</td>\n",
       "      <td>400.0</td>\n",
       "      <td>12477.0</td>\n",
       "      <td>19400</td>\n",
       "      <td>939.764</td>\n",
       "      <td>0.53</td>\n",
       "      <td>2.23</td>\n",
       "      <td>0.0</td>\n",
       "      <td>2.580</td>\n",
       "      <td>1.642</td>\n",
       "      <td>17</td>\n",
       "      <td>No</td>\n",
       "    </tr>\n",
       "    <tr>\n",
       "      <th>18</th>\n",
       "      <td>18</td>\n",
       "      <td>1654733349</td>\n",
       "      <td>20.262</td>\n",
       "      <td>50.49</td>\n",
       "      <td>0.0</td>\n",
       "      <td>400.0</td>\n",
       "      <td>12481.0</td>\n",
       "      <td>19422</td>\n",
       "      <td>939.761</td>\n",
       "      <td>0.50</td>\n",
       "      <td>2.10</td>\n",
       "      <td>0.0</td>\n",
       "      <td>2.423</td>\n",
       "      <td>1.542</td>\n",
       "      <td>18</td>\n",
       "      <td>No</td>\n",
       "    </tr>\n",
       "    <tr>\n",
       "      <th>19</th>\n",
       "      <td>19</td>\n",
       "      <td>1654733350</td>\n",
       "      <td>20.277</td>\n",
       "      <td>50.27</td>\n",
       "      <td>0.0</td>\n",
       "      <td>406.0</td>\n",
       "      <td>12489.0</td>\n",
       "      <td>19451</td>\n",
       "      <td>939.752</td>\n",
       "      <td>0.41</td>\n",
       "      <td>1.72</td>\n",
       "      <td>0.0</td>\n",
       "      <td>1.987</td>\n",
       "      <td>1.265</td>\n",
       "      <td>19</td>\n",
       "      <td>No</td>\n",
       "    </tr>\n",
       "  </tbody>\n",
       "</table>\n",
       "</div>"
      ],
      "text/plain": [
       "    Unnamed: 0         UTC  Temperature[C]  Humidity[%]  TVOC[ppb]  eCO2[ppm]  \\\n",
       "0            0  1654733331          20.000        57.36        0.0      400.0   \n",
       "1            1  1654733332          20.015        56.67        0.0      400.0   \n",
       "2            2  1654733333          20.029        55.96        0.0      400.0   \n",
       "3            3  1654733334          20.044        55.28        0.0      400.0   \n",
       "4            4  1654733335          20.059        54.69        0.0      400.0   \n",
       "5            5  1654733336          20.073        54.12        0.0      400.0   \n",
       "6            6  1654733337          20.088        53.61        0.0      400.0   \n",
       "7            7  1654733338          20.103        53.20        0.0      400.0   \n",
       "8            8  1654733339          20.117        52.81        0.0      400.0   \n",
       "9            9  1654733340          20.132        52.46        0.0      400.0   \n",
       "10          10  1654733341          20.146        52.15        0.0      400.0   \n",
       "11          11  1654733342          20.161        51.84        0.0      400.0   \n",
       "12          12  1654733343          20.175        51.62        0.0      400.0   \n",
       "13          13  1654733344          20.190        51.39        0.0      400.0   \n",
       "14          14  1654733345          20.204        51.17        0.0      403.0   \n",
       "15          15  1654733346          20.219        50.99        0.0      400.0   \n",
       "16          16  1654733347          20.233        50.86        0.0      400.0   \n",
       "17          17  1654733348          20.248        50.66        0.0      400.0   \n",
       "18          18  1654733349          20.262        50.49        0.0      400.0   \n",
       "19          19  1654733350          20.277        50.27        0.0      406.0   \n",
       "\n",
       "     Raw H2  Raw Ethanol  Pressure[hPa]  PM1.0  PM2.5  NC0.5  NC1.0  NC2.5  \\\n",
       "0   12306.0        18520        939.735   0.00   0.00    0.0  0.000  0.000   \n",
       "1   12345.0        18651        939.744   0.00   0.00    0.0  0.000  0.000   \n",
       "2   12374.0        18764        939.738   0.00   0.00    0.0  0.000  0.000   \n",
       "3   12390.0        18849        939.736   0.00   0.00    0.0  0.000  0.000   \n",
       "4   12403.0        18921        939.744   0.00   0.00    0.0  0.000  0.000   \n",
       "5   12419.0        18998        939.725   0.00   0.00    0.0  0.000  0.000   \n",
       "6   12432.0        19058        939.738   0.00   0.00    0.0  0.000  0.000   \n",
       "7   12439.0        19114        939.758   0.00   0.00    0.0  0.000  0.000   \n",
       "8   12448.0        19155        939.758   0.00   0.00    0.0  0.000  0.000   \n",
       "9   12453.0        19195        939.756   0.90   3.78    0.0  4.369  2.780   \n",
       "10  12454.0        19230        939.757   0.89   3.71    0.0  4.289  2.730   \n",
       "11  12467.0        19264        939.754   0.84   3.51    0.0  4.053  2.580   \n",
       "12  12467.0        19299        939.755   0.81   3.38    0.0  3.909  2.488   \n",
       "13  12469.0        19317        939.758   0.74   3.11    0.0  3.588  2.284   \n",
       "14  12468.0        19338        939.742   0.71   2.96    0.0  3.419  2.176   \n",
       "15  12475.0        19362        939.741   0.64   2.66    0.0  3.077  1.959   \n",
       "16  12480.0        19382        939.758   0.60   2.52    0.0  2.908  1.851   \n",
       "17  12477.0        19400        939.764   0.53   2.23    0.0  2.580  1.642   \n",
       "18  12481.0        19422        939.761   0.50   2.10    0.0  2.423  1.542   \n",
       "19  12489.0        19451        939.752   0.41   1.72    0.0  1.987  1.265   \n",
       "\n",
       "    CNT Fire Alarm  \n",
       "0     0         No  \n",
       "1     1         No  \n",
       "2     2         No  \n",
       "3     3         No  \n",
       "4     4         No  \n",
       "5     5         No  \n",
       "6     6         No  \n",
       "7     7         No  \n",
       "8     8         No  \n",
       "9     9         No  \n",
       "10   10         No  \n",
       "11   11         No  \n",
       "12   12         No  \n",
       "13   13         No  \n",
       "14   14         No  \n",
       "15   15         No  \n",
       "16   16         No  \n",
       "17   17         No  \n",
       "18   18         No  \n",
       "19   19         No  "
      ]
     },
     "execution_count": 210,
     "metadata": {},
     "output_type": "execute_result"
    }
   ],
   "source": [
    "data.head(20)"
   ]
  },
  {
   "cell_type": "markdown",
   "id": "883f343b",
   "metadata": {},
   "source": [
    "## Удаление неинформативных столбцов"
   ]
  },
  {
   "cell_type": "markdown",
   "id": "2bc23434-61e5-4343-8204-43dbc27905f8",
   "metadata": {},
   "source": [
    "Удаление столбцов 'Unnamed: 0', содержащего id записей, а также 'UTC', содержащего информацию о времени опроса датчиков:"
   ]
  },
  {
   "cell_type": "code",
   "execution_count": 211,
   "id": "5293afd3-b954-4cd9-b8f4-f522879141a7",
   "metadata": {},
   "outputs": [
    {
     "data": {
      "text/html": [
       "<div>\n",
       "<style scoped>\n",
       "    .dataframe tbody tr th:only-of-type {\n",
       "        vertical-align: middle;\n",
       "    }\n",
       "\n",
       "    .dataframe tbody tr th {\n",
       "        vertical-align: top;\n",
       "    }\n",
       "\n",
       "    .dataframe thead th {\n",
       "        text-align: right;\n",
       "    }\n",
       "</style>\n",
       "<table border=\"1\" class=\"dataframe\">\n",
       "  <thead>\n",
       "    <tr style=\"text-align: right;\">\n",
       "      <th></th>\n",
       "      <th>Temperature[C]</th>\n",
       "      <th>Humidity[%]</th>\n",
       "      <th>TVOC[ppb]</th>\n",
       "      <th>eCO2[ppm]</th>\n",
       "      <th>Raw H2</th>\n",
       "      <th>Raw Ethanol</th>\n",
       "      <th>Pressure[hPa]</th>\n",
       "      <th>PM1.0</th>\n",
       "      <th>PM2.5</th>\n",
       "      <th>NC0.5</th>\n",
       "      <th>NC1.0</th>\n",
       "      <th>NC2.5</th>\n",
       "      <th>CNT</th>\n",
       "    </tr>\n",
       "  </thead>\n",
       "  <tbody>\n",
       "    <tr>\n",
       "      <th>count</th>\n",
       "      <td>62484.000000</td>\n",
       "      <td>62383.000000</td>\n",
       "      <td>62009.000000</td>\n",
       "      <td>62305.000000</td>\n",
       "      <td>62519.000000</td>\n",
       "      <td>62630.000000</td>\n",
       "      <td>62603.000000</td>\n",
       "      <td>62630.000000</td>\n",
       "      <td>62313.000000</td>\n",
       "      <td>62630.000000</td>\n",
       "      <td>62378.000000</td>\n",
       "      <td>62630.000000</td>\n",
       "      <td>62630.000000</td>\n",
       "    </tr>\n",
       "    <tr>\n",
       "      <th>mean</th>\n",
       "      <td>15.972252</td>\n",
       "      <td>48.536969</td>\n",
       "      <td>1944.124030</td>\n",
       "      <td>670.574994</td>\n",
       "      <td>12942.383835</td>\n",
       "      <td>19754.257912</td>\n",
       "      <td>938.627644</td>\n",
       "      <td>100.594309</td>\n",
       "      <td>184.443467</td>\n",
       "      <td>491.463608</td>\n",
       "      <td>203.382660</td>\n",
       "      <td>80.049042</td>\n",
       "      <td>10511.386157</td>\n",
       "    </tr>\n",
       "    <tr>\n",
       "      <th>std</th>\n",
       "      <td>14.361206</td>\n",
       "      <td>8.868993</td>\n",
       "      <td>7819.668069</td>\n",
       "      <td>1909.675941</td>\n",
       "      <td>272.531480</td>\n",
       "      <td>609.513156</td>\n",
       "      <td>1.331169</td>\n",
       "      <td>922.524245</td>\n",
       "      <td>1976.590473</td>\n",
       "      <td>4265.661251</td>\n",
       "      <td>2214.719662</td>\n",
       "      <td>1083.383189</td>\n",
       "      <td>7597.870997</td>\n",
       "    </tr>\n",
       "    <tr>\n",
       "      <th>min</th>\n",
       "      <td>-22.010000</td>\n",
       "      <td>10.740000</td>\n",
       "      <td>0.000000</td>\n",
       "      <td>400.000000</td>\n",
       "      <td>10668.000000</td>\n",
       "      <td>15317.000000</td>\n",
       "      <td>930.852000</td>\n",
       "      <td>0.000000</td>\n",
       "      <td>0.000000</td>\n",
       "      <td>0.000000</td>\n",
       "      <td>0.000000</td>\n",
       "      <td>0.000000</td>\n",
       "      <td>0.000000</td>\n",
       "    </tr>\n",
       "    <tr>\n",
       "      <th>25%</th>\n",
       "      <td>11.000500</td>\n",
       "      <td>47.530000</td>\n",
       "      <td>130.000000</td>\n",
       "      <td>400.000000</td>\n",
       "      <td>12830.000000</td>\n",
       "      <td>19435.000000</td>\n",
       "      <td>938.700000</td>\n",
       "      <td>1.280000</td>\n",
       "      <td>1.340000</td>\n",
       "      <td>8.820000</td>\n",
       "      <td>1.384000</td>\n",
       "      <td>0.033000</td>\n",
       "      <td>3625.250000</td>\n",
       "    </tr>\n",
       "    <tr>\n",
       "      <th>50%</th>\n",
       "      <td>20.130000</td>\n",
       "      <td>50.140000</td>\n",
       "      <td>981.000000</td>\n",
       "      <td>400.000000</td>\n",
       "      <td>12924.000000</td>\n",
       "      <td>19501.000000</td>\n",
       "      <td>938.816000</td>\n",
       "      <td>1.810000</td>\n",
       "      <td>1.880000</td>\n",
       "      <td>12.450000</td>\n",
       "      <td>1.942000</td>\n",
       "      <td>0.044000</td>\n",
       "      <td>9336.000000</td>\n",
       "    </tr>\n",
       "    <tr>\n",
       "      <th>75%</th>\n",
       "      <td>25.410000</td>\n",
       "      <td>53.240000</td>\n",
       "      <td>1189.000000</td>\n",
       "      <td>438.000000</td>\n",
       "      <td>13108.000000</td>\n",
       "      <td>20078.000000</td>\n",
       "      <td>939.417000</td>\n",
       "      <td>2.090000</td>\n",
       "      <td>2.180000</td>\n",
       "      <td>14.420000</td>\n",
       "      <td>2.249000</td>\n",
       "      <td>0.051000</td>\n",
       "      <td>17164.750000</td>\n",
       "    </tr>\n",
       "    <tr>\n",
       "      <th>max</th>\n",
       "      <td>59.930000</td>\n",
       "      <td>75.200000</td>\n",
       "      <td>60000.000000</td>\n",
       "      <td>60000.000000</td>\n",
       "      <td>13803.000000</td>\n",
       "      <td>21410.000000</td>\n",
       "      <td>939.861000</td>\n",
       "      <td>14333.690000</td>\n",
       "      <td>45432.260000</td>\n",
       "      <td>61482.030000</td>\n",
       "      <td>51914.680000</td>\n",
       "      <td>30026.438000</td>\n",
       "      <td>24993.000000</td>\n",
       "    </tr>\n",
       "  </tbody>\n",
       "</table>\n",
       "</div>"
      ],
      "text/plain": [
       "       Temperature[C]   Humidity[%]     TVOC[ppb]     eCO2[ppm]        Raw H2  \\\n",
       "count    62484.000000  62383.000000  62009.000000  62305.000000  62519.000000   \n",
       "mean        15.972252     48.536969   1944.124030    670.574994  12942.383835   \n",
       "std         14.361206      8.868993   7819.668069   1909.675941    272.531480   \n",
       "min        -22.010000     10.740000      0.000000    400.000000  10668.000000   \n",
       "25%         11.000500     47.530000    130.000000    400.000000  12830.000000   \n",
       "50%         20.130000     50.140000    981.000000    400.000000  12924.000000   \n",
       "75%         25.410000     53.240000   1189.000000    438.000000  13108.000000   \n",
       "max         59.930000     75.200000  60000.000000  60000.000000  13803.000000   \n",
       "\n",
       "        Raw Ethanol  Pressure[hPa]         PM1.0         PM2.5         NC0.5  \\\n",
       "count  62630.000000   62603.000000  62630.000000  62313.000000  62630.000000   \n",
       "mean   19754.257912     938.627644    100.594309    184.443467    491.463608   \n",
       "std      609.513156       1.331169    922.524245   1976.590473   4265.661251   \n",
       "min    15317.000000     930.852000      0.000000      0.000000      0.000000   \n",
       "25%    19435.000000     938.700000      1.280000      1.340000      8.820000   \n",
       "50%    19501.000000     938.816000      1.810000      1.880000     12.450000   \n",
       "75%    20078.000000     939.417000      2.090000      2.180000     14.420000   \n",
       "max    21410.000000     939.861000  14333.690000  45432.260000  61482.030000   \n",
       "\n",
       "              NC1.0         NC2.5           CNT  \n",
       "count  62378.000000  62630.000000  62630.000000  \n",
       "mean     203.382660     80.049042  10511.386157  \n",
       "std     2214.719662   1083.383189   7597.870997  \n",
       "min        0.000000      0.000000      0.000000  \n",
       "25%        1.384000      0.033000   3625.250000  \n",
       "50%        1.942000      0.044000   9336.000000  \n",
       "75%        2.249000      0.051000  17164.750000  \n",
       "max    51914.680000  30026.438000  24993.000000  "
      ]
     },
     "execution_count": 211,
     "metadata": {},
     "output_type": "execute_result"
    }
   ],
   "source": [
    "data = data.drop(['Unnamed: 0', 'UTC'], axis=1)\n",
    "data.describe()"
   ]
  },
  {
   "cell_type": "markdown",
   "id": "a77f6efa",
   "metadata": {},
   "source": [
    "## Обработка пропущенных значений"
   ]
  },
  {
   "cell_type": "code",
   "execution_count": 212,
   "id": "f2822840-e4a3-4bca-a0b2-9914127e232f",
   "metadata": {},
   "outputs": [
    {
     "data": {
      "text/plain": [
       "TVOC[ppb]         0.991538\n",
       "eCO2[ppm]         0.518921\n",
       "PM2.5             0.506147\n",
       "NC1.0             0.402363\n",
       "Humidity[%]       0.394380\n",
       "Temperature[C]    0.233115\n",
       "Raw H2            0.177231\n",
       "Pressure[hPa]     0.043110\n",
       "Raw Ethanol       0.000000\n",
       "PM1.0             0.000000\n",
       "NC0.5             0.000000\n",
       "NC2.5             0.000000\n",
       "CNT               0.000000\n",
       "Fire Alarm        0.000000\n",
       "dtype: float64"
      ]
     },
     "execution_count": 212,
     "metadata": {},
     "output_type": "execute_result"
    }
   ],
   "source": [
    "(data.isna().sum()/data.shape[0]*100).sort_values(ascending=False) #"
   ]
  },
  {
   "cell_type": "markdown",
   "id": "1985c0af",
   "metadata": {},
   "source": [
    "Кол-во пропущенных значений маленькое (<1%), поэтому удалим строки,в которых встрчаются пропуски "
   ]
  },
  {
   "cell_type": "code",
   "execution_count": 213,
   "id": "959a7c03-8d09-4f6a-b8db-1ca58039d130",
   "metadata": {},
   "outputs": [
    {
     "data": {
      "text/plain": [
       "Temperature[C]    0\n",
       "Humidity[%]       0\n",
       "TVOC[ppb]         0\n",
       "eCO2[ppm]         0\n",
       "Raw H2            0\n",
       "Raw Ethanol       0\n",
       "Pressure[hPa]     0\n",
       "PM1.0             0\n",
       "PM2.5             0\n",
       "NC0.5             0\n",
       "NC1.0             0\n",
       "NC2.5             0\n",
       "CNT               0\n",
       "Fire Alarm        0\n",
       "dtype: int64"
      ]
     },
     "execution_count": 213,
     "metadata": {},
     "output_type": "execute_result"
    }
   ],
   "source": [
    "data.dropna(inplace=True)\n",
    "data.isna().sum()"
   ]
  },
  {
   "cell_type": "markdown",
   "id": "b1a64c0c",
   "metadata": {},
   "source": [
    "## Коррекция типов\n",
    "Преобразуем значения Yes/No в столбце 'Fire Alarm' в 1/0"
   ]
  },
  {
   "cell_type": "code",
   "execution_count": 214,
   "id": "722625e5-abf2-49a0-a93b-68cb408ba544",
   "metadata": {},
   "outputs": [
    {
     "name": "stdout",
     "output_type": "stream",
     "text": [
      "<class 'pandas.core.frame.DataFrame'>\n",
      "Index: 60603 entries, 0 to 62629\n",
      "Data columns (total 14 columns):\n",
      " #   Column          Non-Null Count  Dtype  \n",
      "---  ------          --------------  -----  \n",
      " 0   Temperature[C]  60603 non-null  float64\n",
      " 1   Humidity[%]     60603 non-null  float64\n",
      " 2   TVOC[ppb]       60603 non-null  float64\n",
      " 3   eCO2[ppm]       60603 non-null  float64\n",
      " 4   Raw H2          60603 non-null  float64\n",
      " 5   Raw Ethanol     60603 non-null  int64  \n",
      " 6   Pressure[hPa]   60603 non-null  float64\n",
      " 7   PM1.0           60603 non-null  float64\n",
      " 8   PM2.5           60603 non-null  float64\n",
      " 9   NC0.5           60603 non-null  float64\n",
      " 10  NC1.0           60603 non-null  float64\n",
      " 11  NC2.5           60603 non-null  float64\n",
      " 12  CNT             60603 non-null  int64  \n",
      " 13  Fire Alarm      60603 non-null  int64  \n",
      "dtypes: float64(11), int64(3)\n",
      "memory usage: 6.9 MB\n"
     ]
    },
    {
     "name": "stderr",
     "output_type": "stream",
     "text": [
      "/var/folders/s6/j_4p__nd5kg5dvjxbj6y3ywh0000gn/T/ipykernel_3167/2117017021.py:1: FutureWarning: Downcasting behavior in `replace` is deprecated and will be removed in a future version. To retain the old behavior, explicitly call `result.infer_objects(copy=False)`. To opt-in to the future behavior, set `pd.set_option('future.no_silent_downcasting', True)`\n",
      "  data['Fire Alarm'] = data['Fire Alarm'].replace({'No' : 0, 'Yes': 1})\n"
     ]
    }
   ],
   "source": [
    "data['Fire Alarm'] = data['Fire Alarm'].replace({'No' : 0, 'Yes': 1})\n",
    "data.info()"
   ]
  },
  {
   "cell_type": "markdown",
   "id": "40abe81a",
   "metadata": {},
   "source": [
    "## Проверка данных"
   ]
  },
  {
   "cell_type": "code",
   "execution_count": 215,
   "id": "1b8c3c6c",
   "metadata": {},
   "outputs": [
    {
     "data": {
      "text/plain": [
       "0"
      ]
     },
     "execution_count": 215,
     "metadata": {},
     "output_type": "execute_result"
    }
   ],
   "source": [
    "data.drop_duplicates(inplace=True)\n",
    "int(data.duplicated().sum())"
   ]
  },
  {
   "cell_type": "code",
   "execution_count": 216,
   "id": "90149544",
   "metadata": {},
   "outputs": [
    {
     "name": "stdout",
     "output_type": "stream",
     "text": [
      "<class 'pandas.core.frame.DataFrame'>\n",
      "Index: 60601 entries, 0 to 62629\n",
      "Data columns (total 14 columns):\n",
      " #   Column          Non-Null Count  Dtype  \n",
      "---  ------          --------------  -----  \n",
      " 0   Temperature[C]  60601 non-null  float64\n",
      " 1   Humidity[%]     60601 non-null  float64\n",
      " 2   TVOC[ppb]       60601 non-null  float64\n",
      " 3   eCO2[ppm]       60601 non-null  float64\n",
      " 4   Raw H2          60601 non-null  float64\n",
      " 5   Raw Ethanol     60601 non-null  int64  \n",
      " 6   Pressure[hPa]   60601 non-null  float64\n",
      " 7   PM1.0           60601 non-null  float64\n",
      " 8   PM2.5           60601 non-null  float64\n",
      " 9   NC0.5           60601 non-null  float64\n",
      " 10  NC1.0           60601 non-null  float64\n",
      " 11  NC2.5           60601 non-null  float64\n",
      " 12  CNT             60601 non-null  int64  \n",
      " 13  Fire Alarm      60601 non-null  int64  \n",
      "dtypes: float64(11), int64(3)\n",
      "memory usage: 6.9 MB\n"
     ]
    }
   ],
   "source": [
    "data.info()"
   ]
  },
  {
   "cell_type": "code",
   "execution_count": 217,
   "id": "d8f9529c",
   "metadata": {},
   "outputs": [
    {
     "data": {
      "text/html": [
       "<div>\n",
       "<style scoped>\n",
       "    .dataframe tbody tr th:only-of-type {\n",
       "        vertical-align: middle;\n",
       "    }\n",
       "\n",
       "    .dataframe tbody tr th {\n",
       "        vertical-align: top;\n",
       "    }\n",
       "\n",
       "    .dataframe thead th {\n",
       "        text-align: right;\n",
       "    }\n",
       "</style>\n",
       "<table border=\"1\" class=\"dataframe\">\n",
       "  <thead>\n",
       "    <tr style=\"text-align: right;\">\n",
       "      <th></th>\n",
       "      <th>Temperature[C]</th>\n",
       "      <th>Humidity[%]</th>\n",
       "      <th>TVOC[ppb]</th>\n",
       "      <th>eCO2[ppm]</th>\n",
       "      <th>Raw H2</th>\n",
       "      <th>Raw Ethanol</th>\n",
       "      <th>Pressure[hPa]</th>\n",
       "      <th>PM1.0</th>\n",
       "      <th>PM2.5</th>\n",
       "      <th>NC0.5</th>\n",
       "      <th>NC1.0</th>\n",
       "      <th>NC2.5</th>\n",
       "      <th>CNT</th>\n",
       "      <th>Fire Alarm</th>\n",
       "    </tr>\n",
       "  </thead>\n",
       "  <tbody>\n",
       "    <tr>\n",
       "      <th>0</th>\n",
       "      <td>20.000</td>\n",
       "      <td>57.36</td>\n",
       "      <td>0.0</td>\n",
       "      <td>400.0</td>\n",
       "      <td>12306.0</td>\n",
       "      <td>18520</td>\n",
       "      <td>939.735</td>\n",
       "      <td>0.0</td>\n",
       "      <td>0.0</td>\n",
       "      <td>0.0</td>\n",
       "      <td>0.0</td>\n",
       "      <td>0.0</td>\n",
       "      <td>0</td>\n",
       "      <td>0</td>\n",
       "    </tr>\n",
       "    <tr>\n",
       "      <th>1</th>\n",
       "      <td>20.015</td>\n",
       "      <td>56.67</td>\n",
       "      <td>0.0</td>\n",
       "      <td>400.0</td>\n",
       "      <td>12345.0</td>\n",
       "      <td>18651</td>\n",
       "      <td>939.744</td>\n",
       "      <td>0.0</td>\n",
       "      <td>0.0</td>\n",
       "      <td>0.0</td>\n",
       "      <td>0.0</td>\n",
       "      <td>0.0</td>\n",
       "      <td>1</td>\n",
       "      <td>0</td>\n",
       "    </tr>\n",
       "    <tr>\n",
       "      <th>2</th>\n",
       "      <td>20.029</td>\n",
       "      <td>55.96</td>\n",
       "      <td>0.0</td>\n",
       "      <td>400.0</td>\n",
       "      <td>12374.0</td>\n",
       "      <td>18764</td>\n",
       "      <td>939.738</td>\n",
       "      <td>0.0</td>\n",
       "      <td>0.0</td>\n",
       "      <td>0.0</td>\n",
       "      <td>0.0</td>\n",
       "      <td>0.0</td>\n",
       "      <td>2</td>\n",
       "      <td>0</td>\n",
       "    </tr>\n",
       "    <tr>\n",
       "      <th>3</th>\n",
       "      <td>20.044</td>\n",
       "      <td>55.28</td>\n",
       "      <td>0.0</td>\n",
       "      <td>400.0</td>\n",
       "      <td>12390.0</td>\n",
       "      <td>18849</td>\n",
       "      <td>939.736</td>\n",
       "      <td>0.0</td>\n",
       "      <td>0.0</td>\n",
       "      <td>0.0</td>\n",
       "      <td>0.0</td>\n",
       "      <td>0.0</td>\n",
       "      <td>3</td>\n",
       "      <td>0</td>\n",
       "    </tr>\n",
       "    <tr>\n",
       "      <th>4</th>\n",
       "      <td>20.059</td>\n",
       "      <td>54.69</td>\n",
       "      <td>0.0</td>\n",
       "      <td>400.0</td>\n",
       "      <td>12403.0</td>\n",
       "      <td>18921</td>\n",
       "      <td>939.744</td>\n",
       "      <td>0.0</td>\n",
       "      <td>0.0</td>\n",
       "      <td>0.0</td>\n",
       "      <td>0.0</td>\n",
       "      <td>0.0</td>\n",
       "      <td>4</td>\n",
       "      <td>0</td>\n",
       "    </tr>\n",
       "  </tbody>\n",
       "</table>\n",
       "</div>"
      ],
      "text/plain": [
       "   Temperature[C]  Humidity[%]  TVOC[ppb]  eCO2[ppm]   Raw H2  Raw Ethanol  \\\n",
       "0          20.000        57.36        0.0      400.0  12306.0        18520   \n",
       "1          20.015        56.67        0.0      400.0  12345.0        18651   \n",
       "2          20.029        55.96        0.0      400.0  12374.0        18764   \n",
       "3          20.044        55.28        0.0      400.0  12390.0        18849   \n",
       "4          20.059        54.69        0.0      400.0  12403.0        18921   \n",
       "\n",
       "   Pressure[hPa]  PM1.0  PM2.5  NC0.5  NC1.0  NC2.5  CNT  Fire Alarm  \n",
       "0        939.735    0.0    0.0    0.0    0.0    0.0    0           0  \n",
       "1        939.744    0.0    0.0    0.0    0.0    0.0    1           0  \n",
       "2        939.738    0.0    0.0    0.0    0.0    0.0    2           0  \n",
       "3        939.736    0.0    0.0    0.0    0.0    0.0    3           0  \n",
       "4        939.744    0.0    0.0    0.0    0.0    0.0    4           0  "
      ]
     },
     "execution_count": 217,
     "metadata": {},
     "output_type": "execute_result"
    }
   ],
   "source": [
    "data.head()"
   ]
  },
  {
   "cell_type": "markdown",
   "id": "7939b8c7",
   "metadata": {},
   "source": [
    "## Обработка выбросов"
   ]
  },
  {
   "cell_type": "markdown",
   "id": "3fb8f1ca",
   "metadata": {},
   "source": [
    "Данные выглядят чистыми и готовыми к проведению EDA"
   ]
  },
  {
   "cell_type": "code",
   "execution_count": 218,
   "id": "b0d8452a",
   "metadata": {},
   "outputs": [
    {
     "name": "stderr",
     "output_type": "stream",
     "text": [
      "/Users/nikolajsemikin/Documents/Programming/ML-studying/.venv/lib/python3.9/site-packages/numpy/lib/_function_base_impl.py:4779: RuntimeWarning: invalid value encountered in subtract\n",
      "  diff_b_a = subtract(b, a)\n"
     ]
    },
    {
     "data": {
      "text/plain": [
       "<Axes: >"
      ]
     },
     "execution_count": 218,
     "metadata": {},
     "output_type": "execute_result"
    },
    {
     "data": {
      "image/png": "[encoded data removed]",
      "text/plain": [
       "<Figure size 640x480 with 1 Axes>"
      ]
     },
     "metadata": {},
     "output_type": "display_data"
    }
   ],
   "source": [
    "sns.boxplot(data, log_scale=True)"
   ]
  },
  {
   "cell_type": "markdown",
   "id": "53f25aae",
   "metadata": {},
   "source": [
    "В данных наблюдается много выбросов"
   ]
  },
  {
   "cell_type": "code",
   "execution_count": 219,
   "id": "cf4f032c",
   "metadata": {},
   "outputs": [
    {
     "data": {
      "image/png": "[encoded data removed]",
      "text/plain": [
       "<Figure size 640x480 with 1 Axes>"
      ]
     },
     "metadata": {},
     "output_type": "display_data"
    },
    {
     "data": {
      "image/png": "[encoded data removed]",
      "text/plain": [
       "<Figure size 640x480 with 1 Axes>"
      ]
     },
     "metadata": {},
     "output_type": "display_data"
    },
    {
     "data": {
      "image/png": "[encoded data removed]",
      "text/plain": [
       "<Figure size 640x480 with 1 Axes>"
      ]
     },
     "metadata": {},
     "output_type": "display_data"
    },
    {
     "data": {
      "image/png": "[encoded data removed]",
      "text/plain": [
       "<Figure size 640x480 with 1 Axes>"
      ]
     },
     "metadata": {},
     "output_type": "display_data"
    },
    {
     "data": {
      "image/png": "[encoded data removed]",
      "text/plain": [
       "<Figure size 640x480 with 1 Axes>"
      ]
     },
     "metadata": {},
     "output_type": "display_data"
    },
    {
     "data": {
      "image/png": "[encoded data removed]",
      "text/plain": [
       "<Figure size 640x480 with 1 Axes>"
      ]
     },
     "metadata": {},
     "output_type": "display_data"
    },
    {
     "data": {
      "image/png": "[encoded data removed]",
      "text/plain": [
       "<Figure size 640x480 with 1 Axes>"
      ]
     },
     "metadata": {},
     "output_type": "display_data"
    },
    {
     "data": {
      "image/png": "[encoded data removed]",
      "text/plain": [
       "<Figure size 640x480 with 1 Axes>"
      ]
     },
     "metadata": {},
     "output_type": "display_data"
    },
    {
     "data": {
      "image/png": "[encoded data removed]",
      "text/plain": [
       "<Figure size 640x480 with 1 Axes>"
      ]
     },
     "metadata": {},
     "output_type": "display_data"
    },
    {
     "data": {
      "image/png": "[encoded data removed]",
      "text/plain": [
       "<Figure size 640x480 with 1 Axes>"
      ]
     },
     "metadata": {},
     "output_type": "display_data"
    },
    {
     "data": {
      "image/png": "[encoded data removed]",
      "text/plain": [
       "<Figure size 640x480 with 1 Axes>"
      ]
     },
     "metadata": {},
     "output_type": "display_data"
    },
    {
     "data": {
      "image/png": "[encoded data removed]",
      "text/plain": [
       "<Figure size 640x480 with 1 Axes>"
      ]
     },
     "metadata": {},
     "output_type": "display_data"
    },
    {
     "data": {
      "image/png": "[encoded data removed]",
      "text/plain": [
       "<Figure size 640x480 with 1 Axes>"
      ]
     },
     "metadata": {},
     "output_type": "display_data"
    },
    {
     "data": {
      "image/png": "[encoded data removed]",
      "text/plain": [
       "<Figure size 640x480 with 1 Axes>"
      ]
     },
     "metadata": {},
     "output_type": "display_data"
    }
   ],
   "source": [
    "for column in data.columns:\n",
    "    plt.hist(data[column], bins=25, log=True,color='blue', alpha=0.4)\n",
    "    lower_bound = data[column].quantile(0.01)\n",
    "    upper_bound = data[column].quantile(0.99)\n",
    "\n",
    "    data = data[data[column] >= lower_bound]\n",
    "    data = data[data[column] <= upper_bound]\n",
    "    plt.hist(data[column], bins=25, log=True,color='red', alpha=0.4)\n",
    "\n",
    "    plt.show()"
   ]
  },
  {
   "cell_type": "code",
   "execution_count": 220,
   "id": "7a44d830",
   "metadata": {},
   "outputs": [],
   "source": [
    "# for column in data.columns:\n",
    "#     data.hist(column, bins=1000, log=True)\n"
   ]
  },
  {
   "cell_type": "code",
   "execution_count": 221,
   "id": "1ca349fc",
   "metadata": {},
   "outputs": [
    {
     "data": {
      "text/plain": [
       "<Axes: >"
      ]
     },
     "execution_count": 221,
     "metadata": {},
     "output_type": "execute_result"
    },
    {
     "data": {
      "image/png": "[encoded data removed]",
      "text/plain": [
       "<Figure size 640x480 with 1 Axes>"
      ]
     },
     "metadata": {},
     "output_type": "display_data"
    }
   ],
   "source": [
    "sns.boxplot(data, log_scale=True)"
   ]
  },
  {
   "cell_type": "markdown",
   "id": "08edd161",
   "metadata": {},
   "source": [
    "label binarizer for days of week // scikitlearn\n",
    "разбить на 3 столбца \n",
    "0|0|0| - пн\n",
    "0|0|1| - вт"
   ]
  }
 ],
 "metadata": {
  "kernelspec": {
   "display_name": ".venv",
   "language": "python",
   "name": "python3"
  },
  "language_info": {
   "codemirror_mode": {
    "name": "ipython",
    "version": 3
   },
   "file_extension": ".py",
   "mimetype": "text/x-python",
   "name": "python",
   "nbconvert_exporter": "python",
   "pygments_lexer": "ipython3",
   "version": "3.9.6"
  }
 },
 "nbformat": 4,
 "nbformat_minor": 5
}
